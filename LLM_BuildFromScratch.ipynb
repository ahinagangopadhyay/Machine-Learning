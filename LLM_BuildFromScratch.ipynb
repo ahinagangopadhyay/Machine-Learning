{
  "nbformat": 4,
  "nbformat_minor": 0,
  "metadata": {
    "colab": {
      "provenance": [],
      "authorship_tag": "ABX9TyOLMqABBsVGrmxv0fVQhj7g",
      "include_colab_link": true
    },
    "kernelspec": {
      "name": "python3",
      "display_name": "Python 3"
    },
    "language_info": {
      "name": "python"
    }
  },
  "cells": [
    {
      "cell_type": "markdown",
      "metadata": {
        "id": "view-in-github",
        "colab_type": "text"
      },
      "source": [
        "<a href=\"https://colab.research.google.com/github/ahinagangopadhyay/Machine-Learning/blob/main/LLM_BuildFromScratch.ipynb\" target=\"_parent\"><img src=\"https://colab.research.google.com/assets/colab-badge.svg\" alt=\"Open In Colab\"/></a>"
      ]
    },
    {
      "cell_type": "code",
      "execution_count": 1,
      "metadata": {
        "colab": {
          "base_uri": "https://localhost:8080/"
        },
        "id": "cBz7wGUFfiOq",
        "outputId": "dd13b14e-6f1c-4e19-e48e-697028d23a40"
      },
      "outputs": [
        {
          "output_type": "stream",
          "name": "stdout",
          "text": [
            "\u001b[2K   \u001b[90m━━━━━━━━━━━━━━━━━━━━━━━━━━━━━━━━━━━━━━━━\u001b[0m \u001b[32m363.4/363.4 MB\u001b[0m \u001b[31m4.2 MB/s\u001b[0m eta \u001b[36m0:00:00\u001b[0m\n",
            "\u001b[2K   \u001b[90m━━━━━━━━━━━━━━━━━━━━━━━━━━━━━━━━━━━━━━━━\u001b[0m \u001b[32m13.8/13.8 MB\u001b[0m \u001b[31m61.6 MB/s\u001b[0m eta \u001b[36m0:00:00\u001b[0m\n",
            "\u001b[2K   \u001b[90m━━━━━━━━━━━━━━━━━━━━━━━━━━━━━━━━━━━━━━━━\u001b[0m \u001b[32m24.6/24.6 MB\u001b[0m \u001b[31m33.2 MB/s\u001b[0m eta \u001b[36m0:00:00\u001b[0m\n",
            "\u001b[2K   \u001b[90m━━━━━━━━━━━━━━━━━━━━━━━━━━━━━━━━━━━━━━━━\u001b[0m \u001b[32m883.7/883.7 kB\u001b[0m \u001b[31m32.1 MB/s\u001b[0m eta \u001b[36m0:00:00\u001b[0m\n",
            "\u001b[2K   \u001b[90m━━━━━━━━━━━━━━━━━━━━━━━━━━━━━━━━━━━━━━━━\u001b[0m \u001b[32m664.8/664.8 MB\u001b[0m \u001b[31m1.2 MB/s\u001b[0m eta \u001b[36m0:00:00\u001b[0m\n",
            "\u001b[2K   \u001b[90m━━━━━━━━━━━━━━━━━━━━━━━━━━━━━━━━━━━━━━━━\u001b[0m \u001b[32m211.5/211.5 MB\u001b[0m \u001b[31m5.8 MB/s\u001b[0m eta \u001b[36m0:00:00\u001b[0m\n",
            "\u001b[2K   \u001b[90m━━━━━━━━━━━━━━━━━━━━━━━━━━━━━━━━━━━━━━━━\u001b[0m \u001b[32m56.3/56.3 MB\u001b[0m \u001b[31m12.7 MB/s\u001b[0m eta \u001b[36m0:00:00\u001b[0m\n",
            "\u001b[2K   \u001b[90m━━━━━━━━━━━━━━━━━━━━━━━━━━━━━━━━━━━━━━━━\u001b[0m \u001b[32m127.9/127.9 MB\u001b[0m \u001b[31m7.4 MB/s\u001b[0m eta \u001b[36m0:00:00\u001b[0m\n",
            "\u001b[2K   \u001b[90m━━━━━━━━━━━━━━━━━━━━━━━━━━━━━━━━━━━━━━━━\u001b[0m \u001b[32m207.5/207.5 MB\u001b[0m \u001b[31m6.0 MB/s\u001b[0m eta \u001b[36m0:00:00\u001b[0m\n",
            "\u001b[2K   \u001b[90m━━━━━━━━━━━━━━━━━━━━━━━━━━━━━━━━━━━━━━━━\u001b[0m \u001b[32m21.1/21.1 MB\u001b[0m \u001b[31m76.7 MB/s\u001b[0m eta \u001b[36m0:00:00\u001b[0m\n",
            "\u001b[?25h"
          ]
        }
      ],
      "source": [
        "# Install dependencies (most are preinstalled in Colab)\n",
        "!pip install -q numpy torch tqdm\n",
        "\n",
        "# Import libraries\n",
        "import torch\n",
        "import torch.nn as nn\n",
        "import torch.nn.functional as F\n",
        "import numpy as np\n",
        "from tqdm import tqdm\n"
      ]
    },
    {
      "cell_type": "code",
      "source": [
        "# A tiny corpus of text\n",
        "text = \"hello there general kenobi\"\n",
        "chars = sorted(list(set(text)))\n",
        "vocab_size = len(chars)\n",
        "\n",
        "# Create a simple mapping: char to index and index to char\n",
        "stoi = {ch: i for i, ch in enumerate(chars)}\n",
        "itos = {i: ch for ch, i in stoi.items()}\n",
        "\n",
        "def encode(s):\n",
        "    return [stoi[c] for c in s]\n",
        "\n",
        "def decode(indices):\n",
        "    return ''.join([itos[i] for i in indices])\n",
        "\n",
        "print(\"Vocab:\", chars)\n",
        "print(\"Encoded:\", encode(\"hello\"))\n",
        "print(\"Decoded:\", decode(encode(\"hello\")))\n"
      ],
      "metadata": {
        "colab": {
          "base_uri": "https://localhost:8080/"
        },
        "id": "TEGWCL6vgYDO",
        "outputId": "9d386fcc-4afb-4e22-82d8-b159b1f11ba6"
      },
      "execution_count": 2,
      "outputs": [
        {
          "output_type": "stream",
          "name": "stdout",
          "text": [
            "Vocab: [' ', 'a', 'b', 'e', 'g', 'h', 'i', 'k', 'l', 'n', 'o', 'r', 't']\n",
            "Encoded: [5, 3, 8, 8, 10]\n",
            "Decoded: hello\n"
          ]
        }
      ]
    },
    {
      "cell_type": "code",
      "source": [
        "import torch\n",
        "\n",
        "# Sample input text\n",
        "data = \"hello there general kenobi\"\n",
        "block_size = 8  # Sequence length to train on\n",
        "\n",
        "# Encode the full text into token IDs\n",
        "encoded_data = torch.tensor(encode(data), dtype=torch.long)\n",
        "\n",
        "# Example: Get first chunk of token IDs\n",
        "x = encoded_data[:block_size]\n",
        "print(\"Token IDs:\", x)\n",
        "\n",
        "# Create embedding table (like a lookup for each token ID)\n",
        "embedding_dim = 16\n",
        "embedding_table = nn.Embedding(vocab_size, embedding_dim)\n",
        "\n",
        "# Get embeddings for x\n",
        "x_embed = embedding_table(x)\n",
        "print(\"Embeddings shape:\", x_embed.shape)  # Should be [block_size, embedding_dim]\n"
      ],
      "metadata": {
        "colab": {
          "base_uri": "https://localhost:8080/"
        },
        "id": "xOaOaGcjhmRZ",
        "outputId": "803bd3c7-9b41-45b7-e564-6b8703f2cacc"
      },
      "execution_count": 3,
      "outputs": [
        {
          "output_type": "stream",
          "name": "stdout",
          "text": [
            "Token IDs: tensor([ 5,  3,  8,  8, 10,  0, 12,  5])\n",
            "Embeddings shape: torch.Size([8, 16])\n"
          ]
        }
      ]
    },
    {
      "cell_type": "code",
      "source": [
        "# Positional embeddings\n",
        "position_embedding_table = nn.Embedding(block_size, embedding_dim)\n",
        "\n",
        "# Create position indices [0, 1, 2, ..., block_size-1]\n",
        "position_ids = torch.arange(block_size)\n",
        "\n",
        "# Get position embeddings\n",
        "position_embeddings = position_embedding_table(position_ids)\n",
        "\n",
        "# Add token + position embeddings\n",
        "x_final = x_embed + position_embeddings\n",
        "print(\"Final input shape:\", x_final.shape)\n"
      ],
      "metadata": {
        "colab": {
          "base_uri": "https://localhost:8080/"
        },
        "id": "SpHzSwo-htpw",
        "outputId": "68b8127a-dbbb-498e-a4ef-9deb0c7dd97b"
      },
      "execution_count": 4,
      "outputs": [
        {
          "output_type": "stream",
          "name": "stdout",
          "text": [
            "Final input shape: torch.Size([8, 16])\n"
          ]
        }
      ]
    },
    {
      "cell_type": "code",
      "source": [
        "class SelfAttentionHead(nn.Module):\n",
        "    def __init__(self, embedding_dim, head_size):\n",
        "        super().__init__()\n",
        "        self.key = nn.Linear(embedding_dim, head_size, bias=False)\n",
        "        self.query = nn.Linear(embedding_dim, head_size, bias=False)\n",
        "        self.value = nn.Linear(embedding_dim, head_size, bias=False)\n",
        "        self.dropout = nn.Dropout(0.1)\n",
        "\n",
        "    def forward(self, x):\n",
        "        B, T, C = x.shape  # Batch, Time (sequence), Channels\n",
        "\n",
        "        k = self.key(x)    # (B, T, head_size)\n",
        "        q = self.query(x)  # (B, T, head_size)\n",
        "\n",
        "        # Compute attention scores (\"affinities\")\n",
        "        wei = q @ k.transpose(-2, -1) / (C ** 0.5)  # (B, T, T)\n",
        "\n",
        "        # Mask out future tokens (causal)\n",
        "        mask = torch.tril(torch.ones(T, T))\n",
        "        wei = wei.masked_fill(mask == 0, float('-inf'))\n",
        "\n",
        "        # Softmax to get attention weights\n",
        "        wei = F.softmax(wei, dim=-1)\n",
        "        wei = self.dropout(wei)\n",
        "\n",
        "        # Get values\n",
        "        v = self.value(x)  # (B, T, head_size)\n",
        "\n",
        "        # Weighted sum of values\n",
        "        out = wei @ v  # (B, T, head_size)\n",
        "        return out\n"
      ],
      "metadata": {
        "id": "iqafd1J5iPDW"
      },
      "execution_count": 5,
      "outputs": []
    },
    {
      "cell_type": "code",
      "source": [
        "# Let's say x_final is [1, 8, 16] = (batch=1, sequence=8, embedding_dim=16)\n",
        "x_input = x_final.unsqueeze(0)  # Add batch dimension\n",
        "\n",
        "head = SelfAttentionHead(embedding_dim=16, head_size=8)\n",
        "out = head(x_input)\n",
        "\n",
        "print(\"Self-attention output shape:\", out.shape)  # Should be [1, 8, 8]\n"
      ],
      "metadata": {
        "colab": {
          "base_uri": "https://localhost:8080/"
        },
        "id": "LvwdASmZiTga",
        "outputId": "a4d45597-dd24-4b81-cd82-90daa5212fe3"
      },
      "execution_count": 6,
      "outputs": [
        {
          "output_type": "stream",
          "name": "stdout",
          "text": [
            "Self-attention output shape: torch.Size([1, 8, 8])\n"
          ]
        }
      ]
    },
    {
      "cell_type": "code",
      "source": [
        "class MultiHeadAttention(nn.Module):\n",
        "    def __init__(self, num_heads, embedding_dim, head_size):\n",
        "        super().__init__()\n",
        "        self.heads = nn.ModuleList([\n",
        "            SelfAttentionHead(embedding_dim, head_size) for _ in range(num_heads)\n",
        "        ])\n",
        "        self.proj = nn.Linear(num_heads * head_size, embedding_dim)\n",
        "        self.dropout = nn.Dropout(0.1)\n",
        "\n",
        "    def forward(self, x):\n",
        "        out = torch.cat([head(x) for head in self.heads], dim=-1)\n",
        "        out = self.proj(out)\n",
        "        return self.dropout(out)\n"
      ],
      "metadata": {
        "id": "UNZxdpEoiW0l"
      },
      "execution_count": 7,
      "outputs": []
    },
    {
      "cell_type": "code",
      "source": [
        "class FeedForward(nn.Module):\n",
        "    def __init__(self, embedding_dim):\n",
        "        super().__init__()\n",
        "        self.net = nn.Sequential(\n",
        "            nn.Linear(embedding_dim, 4 * embedding_dim),\n",
        "            nn.ReLU(),\n",
        "            nn.Linear(4 * embedding_dim, embedding_dim),\n",
        "            nn.Dropout(0.1),\n",
        "        )\n",
        "\n",
        "    def forward(self, x):\n",
        "        return self.net(x)\n"
      ],
      "metadata": {
        "id": "aPkSWmYyiYjP"
      },
      "execution_count": 8,
      "outputs": []
    },
    {
      "cell_type": "code",
      "source": [
        "class TransformerBlock(nn.Module):\n",
        "    def __init__(self, embedding_dim, num_heads):\n",
        "        super().__init__()\n",
        "        head_size = embedding_dim // num_heads\n",
        "        self.sa = MultiHeadAttention(num_heads, embedding_dim, head_size)\n",
        "        self.ffwd = FeedForward(embedding_dim)\n",
        "        self.ln1 = nn.LayerNorm(embedding_dim)\n",
        "        self.ln2 = nn.LayerNorm(embedding_dim)\n",
        "\n",
        "    def forward(self, x):\n",
        "        x = x + self.sa(self.ln1(x))  # Attention + residual\n",
        "        x = x + self.ffwd(self.ln2(x))  # FeedForward + residual\n",
        "        return x\n"
      ],
      "metadata": {
        "id": "dRNNyMjWibF-"
      },
      "execution_count": 9,
      "outputs": []
    },
    {
      "cell_type": "code",
      "source": [
        "block = TransformerBlock(embedding_dim=16, num_heads=4)\n",
        "out = block(x_input)\n",
        "print(\"Transformer output shape:\", out.shape)  # Should be [1, 8, 16]\n"
      ],
      "metadata": {
        "colab": {
          "base_uri": "https://localhost:8080/"
        },
        "id": "Z3X22J4Nie8a",
        "outputId": "c273aa02-bbaa-4b42-9893-703be7312f7d"
      },
      "execution_count": 10,
      "outputs": [
        {
          "output_type": "stream",
          "name": "stdout",
          "text": [
            "Transformer output shape: torch.Size([1, 8, 16])\n"
          ]
        }
      ]
    },
    {
      "cell_type": "code",
      "source": [
        "class GPTMini(nn.Module):\n",
        "    def __init__(self, vocab_size, embedding_dim=32, block_size=8, n_heads=4, n_layers=2):\n",
        "        super().__init__()\n",
        "        self.token_embedding_table = nn.Embedding(vocab_size, embedding_dim)\n",
        "        self.position_embedding_table = nn.Embedding(block_size, embedding_dim)\n",
        "\n",
        "        self.blocks = nn.Sequential(\n",
        "            *[TransformerBlock(embedding_dim, n_heads) for _ in range(n_layers)]\n",
        "        )\n",
        "\n",
        "        self.ln_f = nn.LayerNorm(embedding_dim)  # Final layer norm\n",
        "        self.lm_head = nn.Linear(embedding_dim, vocab_size)  # Language model head\n",
        "\n",
        "    def forward(self, idx):\n",
        "        B, T = idx.shape\n",
        "\n",
        "        tok_emb = self.token_embedding_table(idx)  # (B, T, C)\n",
        "        pos_emb = self.position_embedding_table(torch.arange(T, device=idx.device))  # (T, C)\n",
        "        x = tok_emb + pos_emb  # (B, T, C)\n",
        "\n",
        "        x = self.blocks(x)  # Apply all transformer blocks\n",
        "        x = self.ln_f(x)    # Final layer norm\n",
        "        logits = self.lm_head(x)  # (B, T, vocab_size)\n",
        "\n",
        "        return logits\n"
      ],
      "metadata": {
        "id": "BRoq2XIKinIL"
      },
      "execution_count": 11,
      "outputs": []
    },
    {
      "cell_type": "code",
      "source": [
        "model = GPTMini(vocab_size=vocab_size, embedding_dim=32, block_size=8, n_heads=4, n_layers=2)\n",
        "\n",
        "sample_idx = torch.tensor([encode(\"hello th\")], dtype=torch.long)  # ✔️ fixed\n",
        "logits = model(sample_idx)\n",
        "\n",
        "print(\"Logits shape:\", logits.shape)  # Should be [1, 8, vocab_size]\n"
      ],
      "metadata": {
        "colab": {
          "base_uri": "https://localhost:8080/"
        },
        "id": "TR-r0wXqiprp",
        "outputId": "a8397130-377e-432b-c4d1-d6ef4adde17a"
      },
      "execution_count": 13,
      "outputs": [
        {
          "output_type": "stream",
          "name": "stdout",
          "text": [
            "Logits shape: torch.Size([1, 8, 13])\n"
          ]
        }
      ]
    },
    {
      "cell_type": "code",
      "source": [
        "import random\n",
        "\n",
        "# Full dataset (string → int)\n",
        "data = torch.tensor(encode(text), dtype=torch.long)\n",
        "\n",
        "# Split into small training samples\n",
        "block_size = 8\n",
        "X = []\n",
        "Y = []\n",
        "\n",
        "for i in range(len(data) - block_size):\n",
        "    context = data[i:i+block_size]\n",
        "    target = data[i+1:i+block_size+1]\n",
        "    X.append(context)\n",
        "    Y.append(target)\n",
        "\n",
        "X = torch.stack(X)\n",
        "Y = torch.stack(Y)\n",
        "\n",
        "print(\"Input shape:\", X.shape)   # [n_samples, block_size]\n",
        "print(\"Target shape:\", Y.shape)  # same\n"
      ],
      "metadata": {
        "colab": {
          "base_uri": "https://localhost:8080/"
        },
        "id": "jTw7fn1qi2B5",
        "outputId": "9a0a25ee-854c-4025-9ddc-dc9224eee4fa"
      },
      "execution_count": 14,
      "outputs": [
        {
          "output_type": "stream",
          "name": "stdout",
          "text": [
            "Input shape: torch.Size([18, 8])\n",
            "Target shape: torch.Size([18, 8])\n"
          ]
        }
      ]
    },
    {
      "cell_type": "code",
      "source": [
        "from torch.nn import functional as F\n",
        "\n",
        "model = GPTMini(vocab_size=vocab_size, embedding_dim=32, block_size=block_size, n_heads=4, n_layers=2)\n",
        "optimizer = torch.optim.AdamW(model.parameters(), lr=1e-3)\n",
        "\n",
        "batch_size = 4\n",
        "max_iters = 1000\n",
        "\n",
        "for iter in range(max_iters):\n",
        "    # Sample a random mini-batch\n",
        "    ix = torch.randint(0, X.shape[0], (batch_size,))\n",
        "    x_batch = X[ix]\n",
        "    y_batch = Y[ix]\n",
        "\n",
        "    # Forward pass\n",
        "    logits = model(x_batch)\n",
        "    loss = F.cross_entropy(logits.view(-1, vocab_size), y_batch.view(-1))\n",
        "\n",
        "    # Backward pass\n",
        "    optimizer.zero_grad()\n",
        "    loss.backward()\n",
        "    optimizer.step()\n",
        "\n",
        "    # Log every 100 steps\n",
        "    if iter % 100 == 0:\n",
        "        print(f\"Step {iter}: loss = {loss.item():.4f}\")\n"
      ],
      "metadata": {
        "colab": {
          "base_uri": "https://localhost:8080/"
        },
        "id": "GmJQSUthi_44",
        "outputId": "1efd9390-5e43-44ac-88ff-f395c9ebc4c5"
      },
      "execution_count": 15,
      "outputs": [
        {
          "output_type": "stream",
          "name": "stdout",
          "text": [
            "Step 0: loss = 2.6735\n",
            "Step 100: loss = 0.8155\n",
            "Step 200: loss = 0.2828\n",
            "Step 300: loss = 0.1159\n",
            "Step 400: loss = 0.1669\n",
            "Step 500: loss = 0.2494\n",
            "Step 600: loss = 0.1561\n",
            "Step 700: loss = 0.0581\n",
            "Step 800: loss = 0.0850\n",
            "Step 900: loss = 0.2004\n"
          ]
        }
      ]
    },
    {
      "cell_type": "code",
      "source": [
        "def generate(model, idx, max_new_tokens):\n",
        "    model.eval()\n",
        "    for _ in range(max_new_tokens):\n",
        "        idx_cond = idx[:, -block_size:]  # Last block_size tokens\n",
        "        logits = model(idx_cond)\n",
        "        logits = logits[:, -1, :]  # Take the last token's logits\n",
        "        probs = F.softmax(logits, dim=-1)\n",
        "        next_token = torch.multinomial(probs, num_samples=1)\n",
        "        idx = torch.cat((idx, next_token), dim=1)\n",
        "    return idx\n",
        "\n",
        "# Start from \"hello th\"\n",
        "context = torch.tensor([encode(\"hello th\")], dtype=torch.long)\n",
        "generated = generate(model, context, max_new_tokens=20)\n",
        "print(\"Generated text:\", decode(generated[0].tolist()))\n"
      ],
      "metadata": {
        "colab": {
          "base_uri": "https://localhost:8080/"
        },
        "id": "ZszVxAN0jKU3",
        "outputId": "fe643a2d-f823-4cdc-cd87-32c1e66ec127"
      },
      "execution_count": 16,
      "outputs": [
        {
          "output_type": "stream",
          "name": "stdout",
          "text": [
            "Generated text: hello there general kenobike\n"
          ]
        }
      ]
    }
  ]
}