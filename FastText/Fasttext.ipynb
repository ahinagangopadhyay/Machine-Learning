{
  "nbformat": 4,
  "nbformat_minor": 0,
  "metadata": {
    "colab": {
      "provenance": []
    },
    "kernelspec": {
      "name": "python3",
      "display_name": "Python 3"
    },
    "language_info": {
      "name": "python"
    }
  },
  "cells": [
    {
      "cell_type": "code",
      "execution_count": 5,
      "metadata": {
        "colab": {
          "base_uri": "https://localhost:8080/"
        },
        "id": "ttSxSsJiu8JI",
        "outputId": "32ca108a-c7c3-472a-e931-268dff85b2fa"
      },
      "outputs": [
        {
          "output_type": "stream",
          "name": "stderr",
          "text": [
            "[nltk_data] Downloading package movie_reviews to /root/nltk_data...\n",
            "[nltk_data]   Unzipping corpora/movie_reviews.zip.\n"
          ]
        }
      ],
      "source": [
        "import nltk\n",
        "nltk.download('movie_reviews')\n",
        "from nltk.corpus import movie_reviews\n",
        "\n",
        "# Save to file in required format\n",
        "with open(\"large_dataset.txt\", \"w\") as f:\n",
        "    for fileid in movie_reviews.fileids():\n",
        "        words = movie_reviews.words(fileid)\n",
        "        f.write(\" \".join(words) + \"\\n\")\n"
      ]
    },
    {
      "cell_type": "code",
      "source": [
        "!pip install fasttext"
      ],
      "metadata": {
        "colab": {
          "base_uri": "https://localhost:8080/"
        },
        "id": "LM90FzWVvSGW",
        "outputId": "cee94b20-bbbc-4259-ddb5-4b196b25a30b"
      },
      "execution_count": 3,
      "outputs": [
        {
          "output_type": "stream",
          "name": "stdout",
          "text": [
            "Collecting fasttext\n",
            "  Downloading fasttext-0.9.3.tar.gz (73 kB)\n",
            "\u001b[?25l     \u001b[90m━━━━━━━━━━━━━━━━━━━━━━━━━━━━━━━━━━━━━━━━\u001b[0m \u001b[32m0.0/73.4 kB\u001b[0m \u001b[31m?\u001b[0m eta \u001b[36m-:--:--\u001b[0m\r\u001b[2K     \u001b[90m━━━━━━━━━━━━━━━━━━━━━━━━━━━━━━━━━━━━━━━━\u001b[0m \u001b[32m73.4/73.4 kB\u001b[0m \u001b[31m2.3 MB/s\u001b[0m eta \u001b[36m0:00:00\u001b[0m\n",
            "\u001b[?25h  Installing build dependencies ... \u001b[?25l\u001b[?25hdone\n",
            "  Getting requirements to build wheel ... \u001b[?25l\u001b[?25hdone\n",
            "  Preparing metadata (pyproject.toml) ... \u001b[?25l\u001b[?25hdone\n",
            "Collecting pybind11>=2.2 (from fasttext)\n",
            "  Using cached pybind11-2.13.6-py3-none-any.whl.metadata (9.5 kB)\n",
            "Requirement already satisfied: setuptools>=0.7.0 in /usr/local/lib/python3.11/dist-packages (from fasttext) (75.2.0)\n",
            "Requirement already satisfied: numpy in /usr/local/lib/python3.11/dist-packages (from fasttext) (2.0.2)\n",
            "Using cached pybind11-2.13.6-py3-none-any.whl (243 kB)\n",
            "Building wheels for collected packages: fasttext\n",
            "  Building wheel for fasttext (pyproject.toml) ... \u001b[?25l\u001b[?25hdone\n",
            "  Created wheel for fasttext: filename=fasttext-0.9.3-cp311-cp311-linux_x86_64.whl size=4313504 sha256=79a40259865841b5827bc438aef0398592792a99d664b850d6e90b347448bea5\n",
            "  Stored in directory: /root/.cache/pip/wheels/65/4f/35/5057db0249224e9ab55a513fa6b79451473ceb7713017823c3\n",
            "Successfully built fasttext\n",
            "Installing collected packages: pybind11, fasttext\n",
            "Successfully installed fasttext-0.9.3 pybind11-2.13.6\n"
          ]
        }
      ]
    },
    {
      "cell_type": "code",
      "source": [
        "import fasttext\n",
        "\n",
        "model = fasttext.train_unsupervised(\"large_dataset.txt\", model=\"skipgram\", minCount=1)\n",
        "print(model.get_word_vector(\"movie\"))\n"
      ],
      "metadata": {
        "colab": {
          "base_uri": "https://localhost:8080/"
        },
        "id": "_RGqiYeivP9Y",
        "outputId": "c2ad817b-172c-4829-de1f-6b4fe92a0012"
      },
      "execution_count": 6,
      "outputs": [
        {
          "output_type": "stream",
          "name": "stdout",
          "text": [
            "[-0.05224224  0.15288486 -0.45582542 -0.05982592  0.3823202   0.21869808\n",
            " -0.4891609  -0.20825219  0.28213394  0.17817017 -0.03173436 -0.37195158\n",
            " -0.11230726  0.00336947 -0.20869008  0.2754036   0.18465003 -0.02058593\n",
            " -0.06686702  0.14839782  0.2211158  -0.09858686 -0.37299138 -0.6258697\n",
            " -0.65924674 -0.08796117  0.28703994 -0.05133522  0.07406006  0.13845782\n",
            "  0.19427209  0.32983094  0.06997306 -0.04984085 -0.15224563  0.16992882\n",
            " -0.21213229 -0.18844323 -0.05498012 -0.00131739 -0.40502447  0.22427334\n",
            "  0.09891403  0.17356995  0.3389002   0.30541095  0.60904616 -0.00454547\n",
            "  0.3168161   0.36123404 -0.02231472  0.12967728 -0.10193714 -0.0030206\n",
            " -0.3093081  -0.12843339  0.3123882   0.13294679  0.3300857   0.13899492\n",
            "  0.3775261   0.37759492  0.28559586  0.08523691 -0.27634087 -0.12307656\n",
            "  0.00665068  0.03578741 -0.29439786 -0.02043858 -0.1793118   0.40190297\n",
            "  0.18930984 -0.29482666 -0.17823403 -0.00445085  0.40090716  0.6167277\n",
            "  0.3175505   0.14997762 -0.01872523 -0.41233632  0.4045913   0.2610266\n",
            "  0.45273677  0.29233876  0.2053472   0.21761166 -0.5598905   0.2880906\n",
            "  0.2178772   0.17867273  0.81269234 -0.16099404  0.0236615  -0.37817466\n",
            " -0.22420646 -0.10880943  0.07947884 -0.05454875]\n"
          ]
        }
      ]
    }
  ]
}