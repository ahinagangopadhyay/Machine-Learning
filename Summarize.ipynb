{
 "cells": [
  {
   "cell_type": "code",
   "execution_count": 1,
   "id": "22c18649-1d1b-4cc6-9dea-522f739a0784",
   "metadata": {},
   "outputs": [
    {
     "name": "stderr",
     "output_type": "stream",
     "text": [
      "Xet Storage is enabled for this repo, but the 'hf_xet' package is not installed. Falling back to regular HTTP download. For better performance, install the package with: `pip install huggingface_hub[hf_xet]` or `pip install hf_xet`\n"
     ]
    },
    {
     "data": {
      "application/vnd.jupyter.widget-view+json": {
       "model_id": "621f5c7b1f9441e9a0318c5ed36a4f0d",
       "version_major": 2,
       "version_minor": 0
      },
      "text/plain": [
       "model.safetensors:   0%|          | 0.00/1.63G [00:00<?, ?B/s]"
      ]
     },
     "metadata": {},
     "output_type": "display_data"
    },
    {
     "name": "stderr",
     "output_type": "stream",
     "text": [
      "C:\\Users\\AHINA\\anaconda3\\envs\\papersum\\lib\\site-packages\\huggingface_hub\\file_download.py:143: UserWarning: `huggingface_hub` cache-system uses symlinks by default to efficiently store duplicated files but your machine does not support them in C:\\Users\\AHINA\\.cache\\huggingface\\hub\\models--facebook--bart-large-cnn. Caching files will still work but in a degraded version that might require more space on your disk. This warning can be disabled by setting the `HF_HUB_DISABLE_SYMLINKS_WARNING` environment variable. For more details, see https://huggingface.co/docs/huggingface_hub/how-to-cache#limitations.\n",
      "To support symlinks on Windows, you either need to activate Developer Mode or to run Python as an administrator. In order to activate developer mode, see this article: https://docs.microsoft.com/en-us/windows/apps/get-started/enable-your-device-for-development\n",
      "  warnings.warn(message)\n"
     ]
    },
    {
     "data": {
      "application/vnd.jupyter.widget-view+json": {
       "model_id": "b558a09320184b7caf632a0aec1d4e33",
       "version_major": 2,
       "version_minor": 0
      },
      "text/plain": [
       "generation_config.json:   0%|          | 0.00/363 [00:00<?, ?B/s]"
      ]
     },
     "metadata": {},
     "output_type": "display_data"
    },
    {
     "data": {
      "application/vnd.jupyter.widget-view+json": {
       "model_id": "03dcd2db07ba40ac9a01b669eacc8a4a",
       "version_major": 2,
       "version_minor": 0
      },
      "text/plain": [
       "vocab.json:   0%|          | 0.00/899k [00:00<?, ?B/s]"
      ]
     },
     "metadata": {},
     "output_type": "display_data"
    },
    {
     "data": {
      "application/vnd.jupyter.widget-view+json": {
       "model_id": "9ecf35f491ae408e8542ebb9b5f1b304",
       "version_major": 2,
       "version_minor": 0
      },
      "text/plain": [
       "merges.txt:   0%|          | 0.00/456k [00:00<?, ?B/s]"
      ]
     },
     "metadata": {},
     "output_type": "display_data"
    },
    {
     "data": {
      "application/vnd.jupyter.widget-view+json": {
       "model_id": "d23ff4a82afa40f59199631f58b9b52e",
       "version_major": 2,
       "version_minor": 0
      },
      "text/plain": [
       "tokenizer.json:   0%|          | 0.00/1.36M [00:00<?, ?B/s]"
      ]
     },
     "metadata": {},
     "output_type": "display_data"
    },
    {
     "name": "stderr",
     "output_type": "stream",
     "text": [
      "Device set to use cpu\n",
      "Your max_length is set to 142, but your input_length is only 27. Since this is a summarization task, where outputs shorter than the input are typically wanted, you might consider decreasing max_length manually, e.g. summarizer('...', max_length=13)\n"
     ]
    },
    {
     "name": "stdout",
     "output_type": "stream",
     "text": [
      "Machine learning is a field of artificial intelligence that uses statistical techniques to give computer systems the ability to 'learn' from data. Machine learning is the study of how computers learn by analysing data. For more information on machine learning, visit machinelearning.org.uk. To learn more about machine learning on CNN.com, click here.\n"
     ]
    }
   ],
   "source": [
    "from transformers import pipeline\n",
    "summarizer = pipeline(\"summarization\", model=\"facebook/bart-large-cnn\")\n",
    "\n",
    "test_text = \"Machine learning is a field of artificial intelligence that uses statistical techniques to give computer systems the ability to 'learn' from data.\"\n",
    "\n",
    "print(summarizer(test_text)[0]['summary_text'])\n"
   ]
  },
  {
   "cell_type": "code",
   "execution_count": 3,
   "id": "c5525de7-2e79-44f5-9ad0-402ac2caff7f",
   "metadata": {},
   "outputs": [
    {
     "name": "stdout",
     "output_type": "stream",
     "text": [
      "Collecting PyMuPDF\n",
      "  Using cached pymupdf-1.26.0-cp39-abi3-win_amd64.whl.metadata (3.4 kB)\n",
      "Requirement already satisfied: transformers in c:\\users\\ahina\\anaconda3\\envs\\papersum\\lib\\site-packages (4.52.4)\n",
      "Requirement already satisfied: sentencepiece in c:\\users\\ahina\\anaconda3\\envs\\papersum\\lib\\site-packages (0.2.0)\n",
      "Requirement already satisfied: ipywidgets in c:\\users\\ahina\\anaconda3\\envs\\papersum\\lib\\site-packages (8.1.7)\n",
      "Requirement already satisfied: filelock in c:\\users\\ahina\\anaconda3\\envs\\papersum\\lib\\site-packages (from transformers) (3.18.0)\n",
      "Requirement already satisfied: huggingface-hub<1.0,>=0.30.0 in c:\\users\\ahina\\anaconda3\\envs\\papersum\\lib\\site-packages (from transformers) (0.32.4)\n",
      "Requirement already satisfied: numpy>=1.17 in c:\\users\\ahina\\anaconda3\\envs\\papersum\\lib\\site-packages (from transformers) (1.26.4)\n",
      "Requirement already satisfied: packaging>=20.0 in c:\\users\\ahina\\anaconda3\\envs\\papersum\\lib\\site-packages (from transformers) (25.0)\n",
      "Requirement already satisfied: pyyaml>=5.1 in c:\\users\\ahina\\anaconda3\\envs\\papersum\\lib\\site-packages (from transformers) (6.0.2)\n",
      "Requirement already satisfied: regex!=2019.12.17 in c:\\users\\ahina\\anaconda3\\envs\\papersum\\lib\\site-packages (from transformers) (2024.11.6)\n",
      "Requirement already satisfied: requests in c:\\users\\ahina\\anaconda3\\envs\\papersum\\lib\\site-packages (from transformers) (2.32.3)\n",
      "Requirement already satisfied: tokenizers<0.22,>=0.21 in c:\\users\\ahina\\anaconda3\\envs\\papersum\\lib\\site-packages (from transformers) (0.21.1)\n",
      "Requirement already satisfied: safetensors>=0.4.3 in c:\\users\\ahina\\anaconda3\\envs\\papersum\\lib\\site-packages (from transformers) (0.5.3)\n",
      "Requirement already satisfied: tqdm>=4.27 in c:\\users\\ahina\\anaconda3\\envs\\papersum\\lib\\site-packages (from transformers) (4.67.1)\n",
      "Requirement already satisfied: fsspec>=2023.5.0 in c:\\users\\ahina\\anaconda3\\envs\\papersum\\lib\\site-packages (from huggingface-hub<1.0,>=0.30.0->transformers) (2025.5.1)\n",
      "Requirement already satisfied: typing-extensions>=3.7.4.3 in c:\\users\\ahina\\anaconda3\\envs\\papersum\\lib\\site-packages (from huggingface-hub<1.0,>=0.30.0->transformers) (4.14.0)\n",
      "Requirement already satisfied: comm>=0.1.3 in c:\\users\\ahina\\anaconda3\\envs\\papersum\\lib\\site-packages (from ipywidgets) (0.2.2)\n",
      "Requirement already satisfied: ipython>=6.1.0 in c:\\users\\ahina\\anaconda3\\envs\\papersum\\lib\\site-packages (from ipywidgets) (8.37.0)\n",
      "Requirement already satisfied: traitlets>=4.3.1 in c:\\users\\ahina\\anaconda3\\envs\\papersum\\lib\\site-packages (from ipywidgets) (5.14.3)\n",
      "Requirement already satisfied: widgetsnbextension~=4.0.14 in c:\\users\\ahina\\anaconda3\\envs\\papersum\\lib\\site-packages (from ipywidgets) (4.0.14)\n",
      "Requirement already satisfied: jupyterlab_widgets~=3.0.15 in c:\\users\\ahina\\anaconda3\\envs\\papersum\\lib\\site-packages (from ipywidgets) (3.0.15)\n",
      "Requirement already satisfied: colorama in c:\\users\\ahina\\anaconda3\\envs\\papersum\\lib\\site-packages (from ipython>=6.1.0->ipywidgets) (0.4.6)\n",
      "Requirement already satisfied: decorator in c:\\users\\ahina\\anaconda3\\envs\\papersum\\lib\\site-packages (from ipython>=6.1.0->ipywidgets) (5.2.1)\n",
      "Requirement already satisfied: exceptiongroup in c:\\users\\ahina\\anaconda3\\envs\\papersum\\lib\\site-packages (from ipython>=6.1.0->ipywidgets) (1.3.0)\n",
      "Requirement already satisfied: jedi>=0.16 in c:\\users\\ahina\\anaconda3\\envs\\papersum\\lib\\site-packages (from ipython>=6.1.0->ipywidgets) (0.19.2)\n",
      "Requirement already satisfied: matplotlib-inline in c:\\users\\ahina\\anaconda3\\envs\\papersum\\lib\\site-packages (from ipython>=6.1.0->ipywidgets) (0.1.7)\n",
      "Requirement already satisfied: prompt_toolkit<3.1.0,>=3.0.41 in c:\\users\\ahina\\anaconda3\\envs\\papersum\\lib\\site-packages (from ipython>=6.1.0->ipywidgets) (3.0.51)\n",
      "Requirement already satisfied: pygments>=2.4.0 in c:\\users\\ahina\\anaconda3\\envs\\papersum\\lib\\site-packages (from ipython>=6.1.0->ipywidgets) (2.19.1)\n",
      "Requirement already satisfied: stack_data in c:\\users\\ahina\\anaconda3\\envs\\papersum\\lib\\site-packages (from ipython>=6.1.0->ipywidgets) (0.6.3)\n",
      "Requirement already satisfied: wcwidth in c:\\users\\ahina\\anaconda3\\envs\\papersum\\lib\\site-packages (from prompt_toolkit<3.1.0,>=3.0.41->ipython>=6.1.0->ipywidgets) (0.2.13)\n",
      "Requirement already satisfied: parso<0.9.0,>=0.8.4 in c:\\users\\ahina\\anaconda3\\envs\\papersum\\lib\\site-packages (from jedi>=0.16->ipython>=6.1.0->ipywidgets) (0.8.4)\n",
      "Requirement already satisfied: charset-normalizer<4,>=2 in c:\\users\\ahina\\anaconda3\\envs\\papersum\\lib\\site-packages (from requests->transformers) (3.4.2)\n",
      "Requirement already satisfied: idna<4,>=2.5 in c:\\users\\ahina\\anaconda3\\envs\\papersum\\lib\\site-packages (from requests->transformers) (3.10)\n",
      "Requirement already satisfied: urllib3<3,>=1.21.1 in c:\\users\\ahina\\anaconda3\\envs\\papersum\\lib\\site-packages (from requests->transformers) (2.4.0)\n",
      "Requirement already satisfied: certifi>=2017.4.17 in c:\\users\\ahina\\anaconda3\\envs\\papersum\\lib\\site-packages (from requests->transformers) (2025.4.26)\n",
      "Requirement already satisfied: executing>=1.2.0 in c:\\users\\ahina\\anaconda3\\envs\\papersum\\lib\\site-packages (from stack_data->ipython>=6.1.0->ipywidgets) (2.2.0)\n",
      "Requirement already satisfied: asttokens>=2.1.0 in c:\\users\\ahina\\anaconda3\\envs\\papersum\\lib\\site-packages (from stack_data->ipython>=6.1.0->ipywidgets) (3.0.0)\n",
      "Requirement already satisfied: pure-eval in c:\\users\\ahina\\anaconda3\\envs\\papersum\\lib\\site-packages (from stack_data->ipython>=6.1.0->ipywidgets) (0.2.3)\n",
      "Using cached pymupdf-1.26.0-cp39-abi3-win_amd64.whl (18.5 MB)\n",
      "Installing collected packages: PyMuPDF\n",
      "Successfully installed PyMuPDF-1.26.0\n"
     ]
    }
   ],
   "source": [
    "!pip install PyMuPDF transformers sentencepiece ipywidgets\n"
   ]
  },
  {
   "cell_type": "code",
   "execution_count": 21,
   "id": "0d188416-cd04-4cff-8297-ef0d5e7f31f0",
   "metadata": {},
   "outputs": [
    {
     "data": {
      "application/vnd.jupyter.widget-view+json": {
       "model_id": "6ad33386b40f45f5b91613c0aad183c6",
       "version_major": 2,
       "version_minor": 0
      },
      "text/plain": [
       "FileUpload(value=(), accept='.pdf', description='Upload')"
      ]
     },
     "metadata": {},
     "output_type": "display_data"
    }
   ],
   "source": [
    "from IPython.display import display\n",
    "import ipywidgets as widgets\n",
    "\n",
    "upload = widgets.FileUpload(accept='.pdf', multiple=False)\n",
    "display(upload)\n"
   ]
  },
  {
   "cell_type": "code",
   "execution_count": 32,
   "id": "ade2750c-e6a7-4c16-b1dd-6f314dd0d531",
   "metadata": {},
   "outputs": [
    {
     "data": {
      "application/vnd.jupyter.widget-view+json": {
       "model_id": "d6809d58edca4ec28aa3f4073269df6f",
       "version_major": 2,
       "version_minor": 0
      },
      "text/plain": [
       "FileUpload(value=(), accept='.pdf', description='Upload')"
      ]
     },
     "metadata": {},
     "output_type": "display_data"
    },
    {
     "data": {
      "application/vnd.jupyter.widget-view+json": {
       "model_id": "1514330d66a04b2d98c3f4a55c5bc637",
       "version_major": 2,
       "version_minor": 0
      },
      "text/plain": [
       "Output()"
      ]
     },
     "metadata": {},
     "output_type": "display_data"
    }
   ],
   "source": [
    "import fitz  # PyMuPDF\n",
    "import ipywidgets as widgets\n",
    "from IPython.display import display, clear_output\n",
    "\n",
    "upload = widgets.FileUpload(accept='.pdf', multiple=False)\n",
    "display(upload)\n",
    "\n",
    "output = widgets.Output()\n",
    "display(output)\n",
    "\n",
    "def extract_pdf_text(file_content):\n",
    "    try:\n",
    "        with open(\"temp_uploaded.pdf\", \"wb\") as f:\n",
    "            f.write(file_content)\n",
    "        doc = fitz.open(\"temp_uploaded.pdf\")\n",
    "        full_text = \"\"\n",
    "        for page in doc:\n",
    "            full_text += page.get_text()\n",
    "        return full_text\n",
    "    except Exception as e:\n",
    "        return f\"Error extracting PDF text: {e}\"\n",
    "\n",
    "def on_upload_change(change):\n",
    "    output.clear_output()\n",
    "    try:\n",
    "        if upload.value:\n",
    "            print(\"File uploaded, extracting text...\")\n",
    "\n",
    "            # Handle tuple or dict\n",
    "            if isinstance(upload.value, tuple):\n",
    "                uploaded_file = upload.value[0]\n",
    "            elif isinstance(upload.value, dict):\n",
    "                uploaded_file = list(upload.value.values())[0]\n",
    "            else:\n",
    "                raise ValueError(f\"Unexpected upload.value type: {type(upload.value)}\")\n",
    "\n",
    "            content = uploaded_file['content']\n",
    "            text = extract_pdf_text(content)\n",
    "            with output:\n",
    "                print(\"✅ PDF Loaded. Extracted Text Preview:\\n\")\n",
    "                print(text[:2000])\n",
    "        else:\n",
    "            with output:\n",
    "                print(\"No file uploaded yet.\")\n",
    "    except Exception as e:\n",
    "        with output:\n",
    "            print(f\"Error in upload handler: {e}\")\n",
    "\n",
    "\n",
    "upload.observe(on_upload_change, names='value')\n"
   ]
  },
  {
   "cell_type": "code",
   "execution_count": 33,
   "id": "fc062e77-d065-42f2-bdbf-38b6e3b937b2",
   "metadata": {},
   "outputs": [],
   "source": [
    "import fitz  # PyMuPDF\n",
    "from transformers import pipeline\n",
    "import ipywidgets as widgets\n",
    "from IPython.display import display, clear_output\n"
   ]
  },
  {
   "cell_type": "code",
   "execution_count": 34,
   "id": "33d54e07-cfb5-4692-b407-3a4c349da130",
   "metadata": {},
   "outputs": [],
   "source": [
    "def extract_pdf_text(file_content):\n",
    "    with open(\"temp_uploaded.pdf\", \"wb\") as f:\n",
    "        f.write(file_content)\n",
    "    doc = fitz.open(\"temp_uploaded.pdf\")\n",
    "    full_text = \"\"\n",
    "    for page in doc:\n",
    "        full_text += page.get_text()\n",
    "    return full_text\n"
   ]
  },
  {
   "cell_type": "code",
   "execution_count": 35,
   "id": "233a1e0a-d03a-49a3-9000-9731764f63d4",
   "metadata": {},
   "outputs": [
    {
     "name": "stdout",
     "output_type": "stream",
     "text": [
      "Loading summarization model (this may take a minute)...\n"
     ]
    },
    {
     "name": "stderr",
     "output_type": "stream",
     "text": [
      "Device set to use cpu\n"
     ]
    },
    {
     "name": "stdout",
     "output_type": "stream",
     "text": [
      "Model loaded!\n"
     ]
    }
   ],
   "source": [
    "print(\"Loading summarization model (this may take a minute)...\")\n",
    "summarizer = pipeline(\"summarization\", model=\"facebook/bart-large-cnn\", device=-1)  # device=-1 => CPU\n",
    "print(\"Model loaded!\")\n"
   ]
  },
  {
   "cell_type": "code",
   "execution_count": 36,
   "id": "8414ea28-0d76-4de9-b03a-24b0d120c1ef",
   "metadata": {},
   "outputs": [
    {
     "data": {
      "application/vnd.jupyter.widget-view+json": {
       "model_id": "6a2a7e6cab364baeb70eaa4b1691124b",
       "version_major": 2,
       "version_minor": 0
      },
      "text/plain": [
       "FileUpload(value=(), accept='.pdf', description='Upload')"
      ]
     },
     "metadata": {},
     "output_type": "display_data"
    },
    {
     "data": {
      "application/vnd.jupyter.widget-view+json": {
       "model_id": "42f441a9d8214187abdcb72fd4f8d05e",
       "version_major": 2,
       "version_minor": 0
      },
      "text/plain": [
       "Output()"
      ]
     },
     "metadata": {},
     "output_type": "display_data"
    }
   ],
   "source": [
    "upload = widgets.FileUpload(accept=\".pdf\", multiple=False)\n",
    "output = widgets.Output()\n",
    "\n",
    "display(upload, output)\n"
   ]
  },
  {
   "cell_type": "code",
   "execution_count": 37,
   "id": "3c1600a5-510e-43e8-bbfb-c013400b47c5",
   "metadata": {},
   "outputs": [],
   "source": [
    "def summarize_text(text, max_chunk=1000):\n",
    "    # Split text into chunks of max_chunk size (approximate)\n",
    "    chunks = [text[i:i+max_chunk] for i in range(0, len(text), max_chunk)]\n",
    "    summaries = []\n",
    "    for chunk in chunks:\n",
    "        summary = summarizer(chunk)[0]['summary_text']\n",
    "        summaries.append(summary)\n",
    "    return \" \".join(summaries)\n",
    "\n",
    "def on_upload_change(change):\n",
    "    with output:\n",
    "        clear_output()\n",
    "        try:\n",
    "            if upload.value:\n",
    "                # Support both tuple and dict types for upload.value\n",
    "                if isinstance(upload.value, tuple):\n",
    "                    uploaded_file = upload.value[0]\n",
    "                elif isinstance(upload.value, dict):\n",
    "                    uploaded_file = list(upload.value.values())[0]\n",
    "                else:\n",
    "                    raise ValueError(f\"Unexpected upload.value type: {type(upload.value)}\")\n",
    "\n",
    "                file_content = uploaded_file['content']\n",
    "                print(\"Extracting text from PDF...\")\n",
    "                text = extract_pdf_text(file_content)\n",
    "                print(f\"Extracted text length: {len(text)} characters.\\n\")\n",
    "                print(\"Summarizing text...\")\n",
    "                summary = summarize_text(text)\n",
    "                print(\"\\nSummary:\")\n",
    "                print(summary)\n",
    "            else:\n",
    "                print(\"No file uploaded yet.\")\n",
    "        except Exception as e:\n",
    "            print(f\"Error: {e}\")\n",
    "\n",
    "upload.observe(on_upload_change, names='value')\n"
   ]
  },
  {
   "cell_type": "code",
   "execution_count": 38,
   "id": "f8ea297e-1092-49f4-b682-593015ff41dd",
   "metadata": {},
   "outputs": [
    {
     "name": "stderr",
     "output_type": "stream",
     "text": [
      "Device set to use cpu\n"
     ]
    },
    {
     "data": {
      "application/vnd.jupyter.widget-view+json": {
       "model_id": "f56a052d35a74e6a8f02f5305e96bc03",
       "version_major": 2,
       "version_minor": 0
      },
      "text/plain": [
       "FileUpload(value=(), accept='.pdf', description='Upload')"
      ]
     },
     "metadata": {},
     "output_type": "display_data"
    },
    {
     "data": {
      "application/vnd.jupyter.widget-view+json": {
       "model_id": "845c979ab77d41409a910e9d11867537",
       "version_major": 2,
       "version_minor": 0
      },
      "text/plain": [
       "Output()"
      ]
     },
     "metadata": {},
     "output_type": "display_data"
    }
   ],
   "source": [
    "import fitz\n",
    "from transformers import pipeline\n",
    "import ipywidgets as widgets\n",
    "from IPython.display import display, clear_output\n",
    "\n",
    "# Summarization pipeline (CPU)\n",
    "summarizer = pipeline(\"summarization\", model=\"facebook/bart-large-cnn\", device=-1)\n",
    "\n",
    "upload = widgets.FileUpload(accept=\".pdf\", multiple=False)\n",
    "output = widgets.Output()\n",
    "\n",
    "def extract_pdf_text(file_content):\n",
    "    with open(\"temp_uploaded.pdf\", \"wb\") as f:\n",
    "        f.write(file_content)\n",
    "    doc = fitz.open(\"temp_uploaded.pdf\")\n",
    "    full_text = \"\"\n",
    "    for page in doc:\n",
    "        full_text += page.get_text()\n",
    "    return full_text\n",
    "\n",
    "def summarize_text(text, max_chunk=1000):\n",
    "    chunks = [text[i:i+max_chunk] for i in range(0, len(text), max_chunk)]\n",
    "    summaries = []\n",
    "    for chunk in chunks:\n",
    "        summaries.append(summarizer(chunk)[0]['summary_text'])\n",
    "    return \" \".join(summaries)\n",
    "\n",
    "def on_upload_change(change):\n",
    "    with output:\n",
    "        clear_output()\n",
    "        if not upload.value:\n",
    "            print(\"No file uploaded.\")\n",
    "            return\n",
    "        try:\n",
    "            # Support dict or tuple upload.value\n",
    "            if isinstance(upload.value, dict):\n",
    "                uploaded_file = list(upload.value.values())[0]\n",
    "            else:\n",
    "                uploaded_file = upload.value[0]\n",
    "\n",
    "            content = uploaded_file['content']\n",
    "            print(\"Extracting text...\")\n",
    "            text = extract_pdf_text(content)\n",
    "            print(f\"Extracted {len(text)} characters.\")\n",
    "            print(\"Summarizing...\")\n",
    "            summary = summarize_text(text)\n",
    "            print(\"\\nSummary:\\n\", summary)\n",
    "        except Exception as e:\n",
    "            print(f\"Error: {e}\")\n",
    "\n",
    "upload.observe(on_upload_change, names='value')\n",
    "\n",
    "display(upload, output)\n"
   ]
  },
  {
   "cell_type": "code",
   "execution_count": 39,
   "id": "975ccf9e-f6b4-49dc-8528-12df98bc45b5",
   "metadata": {},
   "outputs": [
    {
     "name": "stdout",
     "output_type": "stream",
     "text": [
      "\n",
      "Summary length: 309 characters\n"
     ]
    }
   ],
   "source": [
    "\n",
    "print(f\"\\nSummary length: {len(summary)} characters\")\n"
   ]
  },
  {
   "cell_type": "code",
   "execution_count": null,
   "id": "e7432e3f-8671-4f92-8af7-a81159366d81",
   "metadata": {},
   "outputs": [],
   "source": []
  }
 ],
 "metadata": {
  "kernelspec": {
   "display_name": "Paper Summarizer Env",
   "language": "python",
   "name": "papersum"
  },
  "language_info": {
   "codemirror_mode": {
    "name": "ipython",
    "version": 3
   },
   "file_extension": ".py",
   "mimetype": "text/x-python",
   "name": "python",
   "nbconvert_exporter": "python",
   "pygments_lexer": "ipython3",
   "version": "3.10.18"
  }
 },
 "nbformat": 4,
 "nbformat_minor": 5
}
